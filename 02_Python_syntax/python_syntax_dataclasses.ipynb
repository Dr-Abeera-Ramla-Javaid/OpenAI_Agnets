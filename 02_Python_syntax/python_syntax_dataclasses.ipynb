{
 "cells": [
  {
   "cell_type": "code",
   "execution_count": 1,
   "id": "5c6b217c",
   "metadata": {},
   "outputs": [],
   "source": [
    "from dataclasses import dataclass"
   ]
  },
  {
   "cell_type": "code",
   "execution_count": null,
   "id": "b2c0f17d",
   "metadata": {},
   "outputs": [],
   "source": [
    "from typing import ClassVar\n",
    "\n",
    "@dataclass\n",
    "class American:\n",
    "national_language: ClassVar[str] = \"English\"\n",
    "national_food: ClassVar[str] = \"Hamburger\"\n",
    "normal_body_temprature:ClassVar[float] = 98.6\n",
    "name: str\n",
    "age: int\n",
    "weight: float\n",
    "liked_food: str\n",
    "\n",
    "def speaks(self):\n",
    "    return f\"{self.name} speaks {self.national_language}.\"\n",
    "\n",
    "def eats(self):\n",
    "    return f\"{self.name}is eating.....\"\n",
    "\n",
    "@staticmethod\n",
    "def country_language():\n",
    "    return American.national_language"
   ]
  },
  {
   "cell_type": "code",
   "execution_count": null,
   "id": "4e4b2e0a",
   "metadata": {},
   "outputs": [],
   "source": [
    "American.national_language()    "
   ]
  }
 ],
 "metadata": {
  "kernelspec": {
   "display_name": ".venv",
   "language": "python",
   "name": "python3"
  },
  "language_info": {
   "codemirror_mode": {
    "name": "ipython",
    "version": 3
   },
   "file_extension": ".py",
   "mimetype": "text/x-python",
   "name": "python",
   "nbconvert_exporter": "python",
   "pygments_lexer": "ipython3",
   "version": "3.12.4"
  }
 },
 "nbformat": 4,
 "nbformat_minor": 5
}
