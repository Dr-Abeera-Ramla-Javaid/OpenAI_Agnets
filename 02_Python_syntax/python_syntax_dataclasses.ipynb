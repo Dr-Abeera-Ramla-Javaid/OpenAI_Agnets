{
 "cells": [
  {
   "cell_type": "code",
   "execution_count": 1,
   "id": "5c6b217c",
   "metadata": {},
   "outputs": [],
   "source": [
    "from dataclasses import dataclass"
   ]
  },
  {
   "cell_type": "code",
   "execution_count": null,
   "id": "b2c0f17d",
   "metadata": {},
   "outputs": [],
   "source": [
    "from typing import ClassVar\n",
    "from dataclasses import dataclass\n",
    "\n",
    "@dataclass\n",
    "class American:\n",
    "    country_language: ClassVar[str] = \"English\"\n",
    "    country_food: ClassVar[str] = \"Hamburger\"\n",
    "    normal_body_temprature: ClassVar[float] = 98.6\n",
    "    name: str\n",
    "    age: int\n",
    "    weight: float\n",
    "    liked_food: str\n",
    "\n",
    "    def speaks(self):\n",
    "        return f\"{self.name} speaks {self.country_language}.\"\n",
    "\n",
    "    def eats(self):\n",
    "        return f\"{self.name}is eating.....\"\n",
    "\n",
    "    @staticmethod\n",
    "    def national_language():  # New method\n",
    "        return American.country_language  # Or define different behavior"
   ]
  },
  {
   "cell_type": "code",
   "execution_count": 22,
   "id": "4e4b2e0a",
   "metadata": {},
   "outputs": [
    {
     "name": "stdout",
     "output_type": "stream",
     "text": [
      "English\n"
     ]
    }
   ],
   "source": [
    "print(American.national_language())  # Output: English"
   ]
  },
  {
   "cell_type": "code",
   "execution_count": 23,
   "id": "4cdee868",
   "metadata": {},
   "outputs": [
    {
     "name": "stdout",
     "output_type": "stream",
     "text": [
      "John speaks English.\n",
      "Johnis eating.....\n"
     ]
    }
   ],
   "source": [
    "john = American(name=\"John\", age=25, weight=65, liked_food=\"Pizza\")\n",
    "print(john.speaks())\n",
    "print(john.eats())  "
   ]
  },
  {
   "cell_type": "code",
   "execution_count": 26,
   "id": "68572a72",
   "metadata": {},
   "outputs": [
    {
     "name": "stdout",
     "output_type": "stream",
     "text": [
      "American(name='John', age=25, weight=65, liked_food='Pizza')\n",
      "John\n",
      "25\n",
      "English\n"
     ]
    }
   ],
   "source": [
    "print(john)\n",
    "print(john.name)\n",
    "print(john.age)\n",
    "print(American.country_language)"
   ]
  }
 ],
 "metadata": {
  "kernelspec": {
   "display_name": ".venv",
   "language": "python",
   "name": "python3"
  },
  "language_info": {
   "codemirror_mode": {
    "name": "ipython",
    "version": 3
   },
   "file_extension": ".py",
   "mimetype": "text/x-python",
   "name": "python",
   "nbconvert_exporter": "python",
   "pygments_lexer": "ipython3",
   "version": "3.12.4"
  }
 },
 "nbformat": 4,
 "nbformat_minor": 5
}
